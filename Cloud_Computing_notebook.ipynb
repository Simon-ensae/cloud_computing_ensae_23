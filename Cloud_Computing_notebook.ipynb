{
  "nbformat": 4,
  "nbformat_minor": 0,
  "metadata": {
    "colab": {
      "provenance": [],
      "gpuType": "T4"
    },
    "kernelspec": {
      "name": "python3",
      "display_name": "Python 3"
    },
    "language_info": {
      "name": "python"
    },
    "gpuClass": "standard",
    "accelerator": "GPU"
  },
  "cells": [
    {
      "cell_type": "markdown",
      "source": [
        "# Parallel GPU implementation of iterative PCA\n",
        "\n",
        "Our algorithm of iterative PCA running on GPU is inspired from this notebook : https://github.com/AmineDiro/GPU_NIPALS_GS_PCA/blob/main/Amine_notebook.ipynb\n",
        "\n",
        "The code had to be modified and adapted in order to actually beat the sklearn CPU PCA algorithm.\n",
        "\n",
        "We chose to work with PyCUDA library."
      ],
      "metadata": {
        "id": "GCFm3f1o5AqC"
      }
    },
    {
      "cell_type": "code",
      "source": [
        "!pip install pycuda"
      ],
      "metadata": {
        "colab": {
          "base_uri": "https://localhost:8080/"
        },
        "id": "YkpY6inH2_6C",
        "outputId": "15ea873c-c4f5-4529-cc6b-6063fcc52685"
      },
      "execution_count": 2,
      "outputs": [
        {
          "output_type": "stream",
          "name": "stdout",
          "text": [
            "Looking in indexes: https://pypi.org/simple, https://us-python.pkg.dev/colab-wheels/public/simple/\n",
            "Collecting pycuda\n",
            "  Downloading pycuda-2022.2.2.tar.gz (1.7 MB)\n",
            "\u001b[2K     \u001b[90m━━━━━━━━━━━━━━━━━━━━━━━━━━━━━━━━━━━━━━━━\u001b[0m \u001b[32m1.7/1.7 MB\u001b[0m \u001b[31m24.4 MB/s\u001b[0m eta \u001b[36m0:00:00\u001b[0m\n",
            "\u001b[?25h  Installing build dependencies ... \u001b[?25l\u001b[?25hdone\n",
            "  Getting requirements to build wheel ... \u001b[?25l\u001b[?25hdone\n",
            "  Preparing metadata (pyproject.toml) ... \u001b[?25l\u001b[?25hdone\n",
            "Collecting pytools>=2011.2 (from pycuda)\n",
            "  Downloading pytools-2022.1.14.tar.gz (74 kB)\n",
            "\u001b[2K     \u001b[90m━━━━━━━━━━━━━━━━━━━━━━━━━━━━━━━━━━━━━━━━\u001b[0m \u001b[32m74.6/74.6 kB\u001b[0m \u001b[31m9.4 MB/s\u001b[0m eta \u001b[36m0:00:00\u001b[0m\n",
            "\u001b[?25h  Preparing metadata (setup.py) ... \u001b[?25l\u001b[?25hdone\n",
            "Requirement already satisfied: appdirs>=1.4.0 in /usr/local/lib/python3.10/dist-packages (from pycuda) (1.4.4)\n",
            "Collecting mako (from pycuda)\n",
            "  Downloading Mako-1.2.4-py3-none-any.whl (78 kB)\n",
            "\u001b[2K     \u001b[90m━━━━━━━━━━━━━━━━━━━━━━━━━━━━━━━━━━━━━━━━\u001b[0m \u001b[32m78.7/78.7 kB\u001b[0m \u001b[31m10.1 MB/s\u001b[0m eta \u001b[36m0:00:00\u001b[0m\n",
            "\u001b[?25hRequirement already satisfied: platformdirs>=2.2.0 in /usr/local/lib/python3.10/dist-packages (from pytools>=2011.2->pycuda) (3.3.0)\n",
            "Requirement already satisfied: typing_extensions>=4.0 in /usr/local/lib/python3.10/dist-packages (from pytools>=2011.2->pycuda) (4.5.0)\n",
            "Requirement already satisfied: MarkupSafe>=0.9.2 in /usr/local/lib/python3.10/dist-packages (from mako->pycuda) (2.1.2)\n",
            "Building wheels for collected packages: pycuda, pytools\n",
            "  Building wheel for pycuda (pyproject.toml) ... \u001b[?25l\u001b[?25hdone\n",
            "  Created wheel for pycuda: filename=pycuda-2022.2.2-cp310-cp310-linux_x86_64.whl size=661975 sha256=498d9fa9d06965c874908bc5d8542a4df879bfe953f5e5a907a0443f164ac475\n",
            "  Stored in directory: /root/.cache/pip/wheels/1d/7b/06/82a395a243fce00035dea9914d92bbef0013401497d849f8bc\n",
            "  Building wheel for pytools (setup.py) ... \u001b[?25l\u001b[?25hdone\n",
            "  Created wheel for pytools: filename=pytools-2022.1.14-py2.py3-none-any.whl size=69855 sha256=5f97bc8e8153d038755824bbf9576712bc0b7bc0a3ed9fc1ffb2be5fcf3a890d\n",
            "  Stored in directory: /root/.cache/pip/wheels/19/02/16/aa2498ad7aa723a149ff7539f1918509661c0ae9d975b44b6d\n",
            "Successfully built pycuda pytools\n",
            "Installing collected packages: pytools, mako, pycuda\n",
            "Successfully installed mako-1.2.4 pycuda-2022.2.2 pytools-2022.1.14\n"
          ]
        }
      ]
    },
    {
      "cell_type": "code",
      "execution_count": 3,
      "metadata": {
        "id": "WghPg1NOJg-g"
      },
      "outputs": [],
      "source": [
        "import numpy as np\n",
        "import matplotlib.pyplot as plt\n",
        "from sklearn.decomposition import PCA\n",
        "from sklearn.preprocessing import StandardScaler\n",
        "from time import time\n",
        "import pycuda.driver as cuda\n",
        "import pycuda.autoinit\n",
        "from pycuda.compiler import SourceModule\n",
        "import pycuda.gpuarray as gpuarray\n",
        "\n",
        "%load_ext autoreload\n",
        "%autoreload 2\n",
        "%reload_ext autoreload"
      ]
    },
    {
      "cell_type": "markdown",
      "source": [
        "# Define a vector X on which we want to apply PCA\n",
        "\n",
        "First we chose to apply our PCA algorithm on a random vector named X. Its dimensions will vary in order to test the relative performances of both CPU and GPU approach.  "
      ],
      "metadata": {
        "id": "m_XrVJDywqXB"
      }
    },
    {
      "cell_type": "code",
      "source": [
        "n_components = 2\n",
        "X = np.random.randn(10,10)\n",
        "std = StandardScaler()\n",
        "X = std.fit_transform(X)\n",
        "plt.scatter(X[:, 0], X[:, 1])\n",
        "plt.axis('equal')"
      ],
      "metadata": {
        "colab": {
          "base_uri": "https://localhost:8080/",
          "height": 499
        },
        "id": "kq9iMlDKPrWC",
        "outputId": "f97e0ced-0664-46b5-f345-1ec7a7dde346"
      },
      "execution_count": 7,
      "outputs": [
        {
          "output_type": "execute_result",
          "data": {
            "text/plain": [
              "(-1.836657943649156,\n",
              " 1.8736483903330416,\n",
              " -1.7845852698099056,\n",
              " 2.256362064397832)"
            ]
          },
          "metadata": {},
          "execution_count": 7
        },
        {
          "output_type": "display_data",
          "data": {
            "text/plain": [
              "<Figure size 640x480 with 1 Axes>"
            ],
            "image/png": "[encoded data removed]"
          },
          "metadata": {}
        }
      ]
    },
    {
      "cell_type": "code",
      "source": [
        "# Initialize PCA with SVD on CPU\n",
        "pca = PCA(n_components=2)\n",
        "t1 = time()\n",
        "pca.fit(X)\n",
        "t2 = time()\n",
        "print(\"fit time CPU :   \", t2 - t1)\n",
        "X_pca = pca.transform(X)\n",
        "print(\"eigenvalues :   \", pca.singular_values_)\n",
        "#print(\"X_pca :   \\n\", X_pca, \"\\n\")\n",
        "\n",
        "print(\"original shape:   \", X.shape)\n",
        "print(\"transformed shape:\", X_pca.shape)\n",
        "\n",
        "plt.scatter(X_pca[:, 0], X_pca[:, 1])\n",
        "plt.axis('equal')"
      ],
      "metadata": {
        "colab": {
          "base_uri": "https://localhost:8080/",
          "height": 517
        },
        "id": "1q-GD98mVa8X",
        "outputId": "13e7e5b7-84d6-4112-ed0f-8bd9aef6da68"
      },
      "execution_count": 8,
      "outputs": [
        {
          "output_type": "stream",
          "name": "stdout",
          "text": [
            "fit time CPU :    0.019960880279541016\n",
            "eigenvalues :    [5.59964217 4.39078833]\n",
            "original shape:    (10, 10)\n",
            "transformed shape: (10, 2)\n"
          ]
        },
        {
          "output_type": "execute_result",
          "data": {
            "text/plain": [
              "(-2.8806758630873883, 3.915051123344403, -2.038481081264603, 2.662277758201543)"
            ]
          },
          "metadata": {},
          "execution_count": 8
        },
        {
          "output_type": "display_data",
          "data": {
            "text/plain": [
              "<Figure size 640x480 with 1 Axes>"
            ],
            "image/png": "[encoded data removed]"
          },
          "metadata": {}
        }
      ]
    },
    {
      "cell_type": "markdown",
      "source": [
        "# Implementation of NIPALS PCA on GPU\n",
        "\n",
        "In this first version, we kept the functions from original github, while adapting the code to work on our data.\n",
        "\n",
        "We compared the eigenvalues of CPU and GPU PCA."
      ],
      "metadata": {
        "id": "td8fHTzYwX7e"
      }
    },
    {
      "cell_type": "code",
      "source": [
        "# Multiply X.T * th\n",
        "def multiply_transpose(X_gpu, T_gpu, P_gpu, M, N):\n",
        "    mult_transpose = SourceModule(\"\"\"\n",
        "            # define M %(size_M)d\n",
        "            # define N %(size_N)d\n",
        "            __global__ void mult_transpose(float *X, float *T ,  float *P)\n",
        "            {\n",
        "            // Block row and column\n",
        "            int row = blockIdx.x*blockDim.x + threadIdx.x;\n",
        "            float sum = 0;\n",
        "            for (int m= 0; m < M; ++m)\n",
        "            {   \n",
        "                sum += X[row + m*N]*T[m];     \n",
        "            }\n",
        "            // Write the value to the subvector Tsub\n",
        "            P[row] = sum;\n",
        "            }\n",
        "             \"\"\" % {\"size_M\": M, \"size_N\": N})\n",
        "\n",
        "    mult_transpose_gpu = mult_transpose.get_function(\"mult_transpose\")\n",
        "\n",
        "    block_size = (min(N, 1024), 1, 1)\n",
        "    grid_size = (int(np.ceil(N / block_size[0])), 1, 1)\n",
        "    mult_transpose_gpu(X_gpu, T_gpu, P_gpu,\n",
        "                       block=block_size, grid=grid_size)\n",
        "\n",
        "    return P_gpu\n",
        "\n",
        "# Return norme squared sum(a*a)\n",
        "\n",
        "\n",
        "def Norme2(a_gpu, b_gpu, c_gpu, N):\n",
        "    # THREADS_PER_BLOCK = 1024 \n",
        "    kernel_code_template = \"\"\"\n",
        "            __global__ void dot(float *a, float *b,float *c) {\n",
        "          __shared__ float temp[1024];\n",
        "          int index = threadIdx.x + blockIdx.x  *blockDim.x;\n",
        "          temp[threadIdx.x] = a[index] * b[index];\n",
        "            __shared__ float cache;\n",
        "          if (threadIdx.x == 0) {\n",
        "            if ((blockIdx.x + 1) * 1024<= %(N)s)\n",
        "              cache = 1024;\n",
        "            else cache = fmodf(%(N)s, 1024);\n",
        "          }\n",
        "          __syncthreads();\n",
        "          if (threadIdx.x == 0) {\n",
        "              float sum =0;\n",
        "              for (int i =0; i< cache; i++) {\n",
        "                  sum += temp[i];\n",
        "                  }\n",
        "              atomicAdd(c, sum);\n",
        "              }\n",
        "              \n",
        "          }\n",
        "         \"\"\"\n",
        "\n",
        "    kernel_code = kernel_code_template % {\n",
        "        'N': N,\n",
        "    }\n",
        "    mod = SourceModule(kernel_code)\n",
        "\n",
        "    func = mod.get_function(\"dot\")\n",
        "\n",
        "    blocksPerGrid = (int((N + 1024-1)/1024), 1)\n",
        "\n",
        "    func(a_gpu, a_gpu, c_gpu, block=(1024, 1, 1), grid=blocksPerGrid)\n",
        "\n",
        "    return c_gpu.get()\n",
        "\n",
        "# Normalize P/ ||P||\n",
        "\n",
        "\n",
        "def normalize_vector(P_gpu, N):\n",
        "    normalize = SourceModule(\"\"\"\n",
        "        # include <math.h>\n",
        "        __global__ void normalize(float *P, float norm2_P){\n",
        "        int idx =  blockIdx.x*blockDim.x + threadIdx.x;\n",
        "        P[idx]=P[idx]/norm2_P;\n",
        "        }\n",
        "        \"\"\")\n",
        "    normalize_gpu = normalize.get_function(\"normalize\")\n",
        "    num_threads = int(np.ceil(N))\n",
        "    grid_size = int(np.ceil(num_threads / 1024))\n",
        "    out = np.zeros(1, dtype=np.float32)\n",
        "    out_gpu = gpuarray.to_gpu(out)\n",
        "    sum_P = Norme2(P_gpu, P_gpu, out_gpu, N)\n",
        "    norm2_P = np.float32(np.sqrt(sum_P))\n",
        "    if grid_size > 1:\n",
        "        block_size = 1024\n",
        "    else:\n",
        "        block_size = num_threads\n",
        "    normalize_gpu(P_gpu, norm2_P, block=(\n",
        "        block_size, 1, 1), grid=(grid_size, 1, 1))\n",
        "\n",
        "    return P_gpu\n",
        "\n",
        "# Multiply X * P\n",
        "\n",
        "\n",
        "def multipy(X_gpu, P_gpu, T_gpu, M, N):\n",
        "    mult = SourceModule(\"\"\"\n",
        "        # include <math.h>\n",
        "        # define N %(size)d\n",
        "        __global__ void mult(float *X, float *P, float *T)\n",
        "        {\n",
        "        // Block row and column\n",
        "        int row = blockIdx.x*blockDim.x + threadIdx.x;\n",
        "        float sum = 0;\n",
        "        for (int n = 0; n < N; ++n)\n",
        "        {\n",
        "            sum += X[row*N + n]*P[n];\n",
        "        }\n",
        "        // Write the value to the subvector Tsub\n",
        "        T[row] = sum;\n",
        "    }\n",
        "    \"\"\" % {\"size\": N})\n",
        "    mult_gpu = mult.get_function(\"mult\")\n",
        "    block_size = (min(M, 1024), 1, 1)\n",
        "    grid_size = (int(np.ceil(M / block_size[0])), 1, 1)\n",
        "    mult_gpu(X_gpu, P_gpu, T_gpu, block=block_size, grid=grid_size)\n",
        "\n",
        "    return T_gpu\n",
        "\n",
        "\n",
        "# Multiply X - T @ P.T  ( Mx1 * 1xN)\n",
        "def update(X_gpu, T_gpu, P_gpu, M, N, scalar):\n",
        "    outer_mult = SourceModule(\"\"\"\n",
        "        # include <stdio.h>\n",
        "        # define M %(size_M)d\n",
        "        # define N %(size_N)d\n",
        "        __global__ void outer_mult(float *X, float *T ,  float *P,float scalar )\n",
        "        {\n",
        "        int bx = blockIdx.x;\n",
        "        int by = blockIdx.y;\n",
        "        int tx = threadIdx.x;\n",
        "        int ty = threadIdx.y;\n",
        "        // Block row and column\n",
        "        int row = by*blockDim.y + ty;\n",
        "        int col = bx*blockDim.x + tx;\n",
        "        //int dim = gridDim.x*blockDim.x;\n",
        "        if (row < M && col < N){\n",
        "            int idx = row*N + col ;\n",
        "            X[idx] -= scalar*T[row]*P[col];\n",
        "        }\n",
        "        }\n",
        "        \"\"\" % {\"size_M\": M, \"size_N\": N})\n",
        "    outer = outer_mult.get_function(\"outer_mult\")\n",
        "    block_size = (min(N, 32), min(M, 32), 1)\n",
        "    grid_size = (\n",
        "        int(np.ceil(N / block_size[0])), int(np.ceil(M / block_size[1])), 1)\n",
        "    outer(X_gpu, T_gpu, P_gpu, np.float32(\n",
        "        scalar), block=block_size, grid=grid_size)\n",
        "    return X_gpu\n",
        "\n",
        "# Use sqrt(norm2)\n",
        "\n",
        "\n",
        "def substract(out_gpu, T_gpu, P_gpu, N):\n",
        "    sub = SourceModule(\"\"\"\n",
        "        # include <stdio.h>\n",
        "        # define N %(size_N)d\n",
        "        __global__ void sub(float *X, float *T ,  float *P,float scalar )\n",
        "        {\n",
        "        int row = blockIdx.x*blockDim.x + threadIdx.x;\n",
        "        if(row < N){\n",
        "            X[row] = T[row] - P[row];\n",
        "        }\n",
        "        }\n",
        "        \"\"\" % {\"size_N\": N})\n",
        "    sub_func = sub.get_function(\"sub\")\n",
        "    block_size = (min(N, 32), 1, 1)\n",
        "    grid_size = (\n",
        "        int(np.ceil(N / block_size[0])), 1, 1)\n",
        "\n",
        "    sub_func(out_gpu, T_gpu, P_gpu, block=block_size, grid=grid_size)\n",
        "    return out_gpu\n",
        "\n",
        "\n",
        "def get_eigenvalue(T_gpu, M):\n",
        "    out = np.zeros(1, dtype=np.float32)\n",
        "    out_gpu = gpuarray.to_gpu(out)\n",
        "    sum_T = Norme2(T_gpu, T_gpu, out_gpu, M)\n",
        "    norm2_T = np.sqrt(sum_T)\n",
        "    return norm2_T"
      ],
      "metadata": {
        "id": "KJ71slNwwZyn"
      },
      "execution_count": 4,
      "outputs": []
    },
    {
      "cell_type": "code",
      "source": [
        "class Nipals_GPU():\n",
        "    def __init__(self, ncomp=None, tol=1e-5, maxiter=100):\n",
        "        self.tol = tol\n",
        "        self.maxiter = maxiter\n",
        "        self.ncomp = ncomp\n",
        "\n",
        "    def onestepcomp_gpu(self, X_gpu, comp):\n",
        "        # get comp row\n",
        "        th = self.X_PCA[:, comp]\n",
        "        ph = np.zeros((self.N,)).astype(np.float32)\n",
        "\n",
        "        # th = self.X_GPU[:, comp]\n",
        "        # NOTE : +20s  on test don't get why\n",
        "\n",
        "        th_gpu = gpuarray.to_gpu(th)\n",
        "        ph_gpu = gpuarray.to_gpu(ph)\n",
        "        eig = 0\n",
        "\n",
        "        for j in range(self.maxiter):\n",
        "            # Normalize X.T*th\n",
        "            multiply_transpose(X_gpu, th_gpu, ph_gpu, self.M, self.N)\n",
        "\n",
        "            # Normalize ph/ ||ph||\n",
        "            normalize_vector(ph_gpu, self.N)\n",
        "\n",
        "            # Multiply X * ph\n",
        "            multipy(X_gpu, ph_gpu, th_gpu, self.M, self.N)\n",
        "\n",
        "            # Compute eigenvalue\n",
        "            eigh = get_eigenvalue(th_gpu,self.M)\n",
        "            \n",
        "            # Condition to stop iterating if convergence is observed\n",
        "            if(np.abs(eigh - eig) < self.tol):\n",
        "                break\n",
        "            eig = eigh\n",
        "        return th_gpu, ph_gpu, eigh\n",
        "\n",
        "    def fit_on_GPU(self, X):\n",
        "        \"\"\"\n",
        "        fit method\n",
        "        -------\n",
        "        parametres : X data N x N Matrix \n",
        "        output : True       \n",
        "        ------\n",
        "        \"\"\"\n",
        "        self.X = X.astype(np.float32)\n",
        "\n",
        "        # move to GPU\n",
        "        self.X_PCA = self.X\n",
        "        self.X_GPU = gpuarray.to_gpu(self.X_PCA)\n",
        "\n",
        "        # should correspond to X.T.shape\n",
        "        self.M, self.N = self.X_GPU.shape\n",
        "\n",
        "        if self.ncomp is None:\n",
        "            ncomp = min(self.X.shape)\n",
        "        else:\n",
        "            try:\n",
        "                assert self.ncomp <= min(\n",
        "                    self.M, self.N), \"can't have this value will set ncomp to{}\".format(min(X.shape))\n",
        "                ncomp = self.ncomp\n",
        "            except AssertionError as msg:\n",
        "                print(msg)\n",
        "                ncomp = min(self.X.shape)\n",
        "\n",
        "        eig = np.empty((ncomp,)).astype(np.float32)\n",
        "        loadings = np.empty((self.N, ncomp)).astype(np.float32)\n",
        "        scores = np.empty((self.M, ncomp)).astype(np.float32)\n",
        "\n",
        "        # initialize outputs on gpu\n",
        "        self.loadings_gpu = gpuarray.to_gpu(loadings)\n",
        "        self.scores_gpu = gpuarray.to_gpu(scores)\n",
        "\n",
        "        for comp in range(ncomp):\n",
        "            # Calculate on full matrix\n",
        "            th_gpu, ph_gpu, eigh = self.onestepcomp_gpu(self.X_GPU, comp)\n",
        "\n",
        "            # Update X\n",
        "            self.X_GPU = update(self.X_GPU, th_gpu, ph_gpu,self.M,self.N,1)\n",
        "            self.loadings_gpu[:, comp] = ph_gpu.get()\n",
        "            self.scores_gpu[:, comp] = th_gpu.get()\n",
        "            eig[comp] = eigh\n",
        "\n",
        "        # Get results\n",
        "        self.eig = eig\n",
        "        self.scores = scores\n",
        "        self.loadings = loadings\n",
        "\n",
        "        #return \"Done\"\n",
        "\n",
        "    def transform(self):\n",
        "        \"\"\"\n",
        "        transform method\n",
        "        -------\n",
        "        output : PCA data \n",
        "        ------\n",
        "        \"\"\"\n",
        "        print('eigenvalues :', self.eig)\n",
        "        X_centered = self.X - np.mean(self.X, axis=0)\n",
        "        X_pca = np.dot(X_centered, self.loadings)\n",
        "\n",
        "        return X_pca"
      ],
      "metadata": {
        "id": "ri_8LT-Ewfy2"
      },
      "execution_count": 5,
      "outputs": []
    },
    {
      "cell_type": "code",
      "source": [
        "pca_nipals = Nipals_GPU(ncomp=2)\n",
        "t1 = time()\n",
        "pca_nipals.fit_on_GPU(X)\n",
        "t2 = time()\n",
        "print(\"fit time GPU :   \", t2 - t1)\n",
        "X_pca = pca_nipals.transform()\n",
        "print(\"original shape:   \", X.shape)\n",
        "print(\"transformed shape:\", X_pca.shape)\n",
        "plt.scatter(X_pca[:, 0], X_pca[:, 1])\n",
        "plt.axis('equal')"
      ],
      "metadata": {
        "colab": {
          "base_uri": "https://localhost:8080/",
          "height": 517
        },
        "id": "nLZfGtU4cOmn",
        "outputId": "35f58fa1-6f22-40ee-a974-2f5da7d6f312"
      },
      "execution_count": 9,
      "outputs": [
        {
          "output_type": "stream",
          "name": "stdout",
          "text": [
            "fit time GPU :    1.9953830242156982\n",
            "eigenvalues : [5.5996385 4.3907776]\n",
            "original shape:    (10, 10)\n",
            "transformed shape: (10, 2)\n"
          ]
        },
        {
          "output_type": "execute_result",
          "data": {
            "text/plain": [
              "(-11.486788082122803, 11.740534114837647, -8.78788139820099, 8.571473145484925)"
            ]
          },
          "metadata": {},
          "execution_count": 9
        },
        {
          "output_type": "display_data",
          "data": {
            "text/plain": [
              "<Figure size 640x480 with 1 Axes>"
            ],
            "image/png": "[encoded data removed]"
          },
          "metadata": {}
        }
      ]
    },
    {
      "cell_type": "markdown",
      "source": [
        "# Optimized version on GPU\n",
        "The previous algorithm is accuretly running on GPU, performing PCA via NIPALS algorithm. But some instructions parasitize the code by slowing it down, forcing more CPU -> GPU or GPU -> CPU transfers than necessary. \n",
        "\n",
        "In this part we try to change the code to accelerate the computation time on GPU :     \n",
        "\n",
        "- we remove all the prints in functions\n",
        "- we remove the calculation of eigenvalues that we added to compare the NIPALS performances with pca from sklearn.\n",
        "- we build a function to draw a chart like the one in the studied paper, comparing performances of both CPU and GPU implementations according to the size of input matrix X."
      ],
      "metadata": {
        "id": "X0C8jZalcQER"
      }
    },
    {
      "cell_type": "code",
      "source": [
        "from time import time\n",
        "\n",
        "class Nipals_GPU_v2():\n",
        "    def __init__(self, ncomp=None, tol=1e-5, maxiter=100):\n",
        "        self.tol = tol\n",
        "        self.maxiter = maxiter\n",
        "        self.ncomp = ncomp\n",
        "\n",
        "    def onestepcomp_gpu(self, X_gpu, comp):\n",
        "        # get comp row\n",
        "        T = self.X_PCA[:, comp]\n",
        "        P = np.zeros((self.N,)).astype(np.float32)\n",
        "\n",
        "        T_gpu = gpuarray.to_gpu(T)\n",
        "        P_gpu = gpuarray.to_gpu(P)\n",
        "        eig = 0\n",
        "\n",
        "        for j in range(self.maxiter):\n",
        "            # Normalize X.T*T\n",
        "            multiply_transpose(X_gpu, T_gpu, P_gpu, self.M, self.N)\n",
        "\n",
        "            # Normalize P/ ||P||\n",
        "            normalize_vector(P_gpu, self.N)\n",
        "\n",
        "            # Multiply X * P\n",
        "            multipy(X_gpu, P_gpu, T_gpu, self.M, self.N)\n",
        "\n",
        "            # Compute eigenvalue\n",
        "            # eigh = get_eigenvalue(T_gpu,self.M)\n",
        "            # print('Time for multipy eigenvalue', t2-t1)\n",
        "            \n",
        "            # Condition to stop iterating if convergence is observed\n",
        "            # if(np.abs(eigh - eig) < self.tol):\n",
        "            #     break\n",
        "            # eig = eigh\n",
        "        return T_gpu, P_gpu #, eigh\n",
        "\n",
        "    def fit_on_GPU(self, X):\n",
        "        \"\"\"\n",
        "        fit meTod\n",
        "        -------\n",
        "        parametres : X data N x N Matrix \n",
        "        output : True       \n",
        "        ------\n",
        "        \"\"\"\n",
        "        self.X = X.astype(np.float32)\n",
        "\n",
        "        # move to GPU\n",
        "        self.X_PCA = self.X\n",
        "        self.X_GPU = gpuarray.to_gpu(self.X_PCA)\n",
        "\n",
        "        # should correspond to X.T.shape\n",
        "        self.M, self.N = self.X_GPU.shape\n",
        "\n",
        "        if self.ncomp is None:\n",
        "            ncomp = min(self.X.shape)\n",
        "        else:\n",
        "            try:\n",
        "                assert self.ncomp <= min(\n",
        "                    self.M, self.N), \"can't have Tis value will set ncomp to{}\".format(min(X.shape))\n",
        "                ncomp = self.ncomp\n",
        "            except AssertionError as msg:\n",
        "                print(msg)\n",
        "                ncomp = min(self.X.shape)\n",
        "\n",
        "        #eig = np.empty((ncomp,)).astype(np.float32)\n",
        "        loadings = np.empty((self.N, ncomp)).astype(np.float32)\n",
        "        scores = np.empty((self.M, ncomp)).astype(np.float32)\n",
        "\n",
        "        # initialize outputs on gpu\n",
        "        self.loadings_gpu = gpuarray.to_gpu(loadings)\n",
        "        self.scores_gpu = gpuarray.to_gpu(scores)\n",
        "\n",
        "        for comp in range(ncomp):\n",
        "            # Calculate on full matrix\n",
        "            #T_gpu, P_gpu, eigh = self.onestepcomp_gpu(self.X_GPU, comp)\n",
        "            T_gpu, P_gpu = self.onestepcomp_gpu(self.X_GPU, comp)\n",
        "\n",
        "            # Update X\n",
        "            self.X_GPU = update(self.X_GPU, T_gpu, P_gpu,self.M,self.N,1)\n",
        "            self.loadings_gpu[:, comp] = P_gpu.get()\n",
        "            self.scores_gpu[:, comp] = T_gpu.get()\n",
        "            #eig[comp] = eigh\n",
        "\n",
        "        # Get results\n",
        "        #self.eig = eig\n",
        "        self.scores = scores\n",
        "        self.loadings = loadings\n",
        "\n",
        "\n",
        "    def transform(self):\n",
        "        \"\"\"\n",
        "        transform method\n",
        "        -------\n",
        "        output : PCA data \n",
        "        ------\n",
        "        \"\"\"\n",
        "        #print('eig :', self.eig)\n",
        "        X_centered = self.X - np.mean(self.X, axis=0)\n",
        "        X_pca = np.dot(X_centered, self.loadings)\n",
        "\n",
        "        return X_pca"
      ],
      "metadata": {
        "id": "RwfYciBNIQ5d"
      },
      "execution_count": 11,
      "outputs": []
    },
    {
      "cell_type": "code",
      "source": [
        "#@title Comparison of computation time between sklearn method and out gpu implementation with increasing number of rows\n",
        "relative_time = {\"gpu\":[], \"cpu\":[]}\n",
        "rows = [10**n for n in np.arange(1, 6, 0.5)]\n",
        "for row in rows:\n",
        "    n_components = 2\n",
        "    # Initialize X\n",
        "    X = np.random.randn(int(row),10)\n",
        "    std = StandardScaler()\n",
        "    X = std.fit_transform(X)\n",
        "    # GPU PCA\n",
        "    pca_gpu = Nipals_GPU_v2(ncomp=2)\n",
        "    t1 = time()\n",
        "    pca_gpu.fit_on_GPU(X)\n",
        "    t2 = time()\n",
        "    relative_time[\"gpu\"].append(t2 - t1)\n",
        "    # CPU PCA\n",
        "    pca_cpu = PCA(n_components=2)\n",
        "    t1 = time()\n",
        "    pca_cpu.fit(X)\n",
        "    t2 = time()\n",
        "    relative_time[\"cpu\"].append(t2 - t1)\n",
        "# plot the curves for each device\n",
        "for device in relative_time:\n",
        "    times = relative_time[device]\n",
        "    plt.plot(rows, times, label=device)\n",
        "\n",
        "# add legend, title, and axis labels\n",
        "plt.legend()\n",
        "plt.title(\"Time per Row for CPU and GPU\")\n",
        "plt.xlabel(\"Row Number\")\n",
        "plt.ylabel(\"Time\")\n",
        "\n",
        "# display the plot\n",
        "plt.show()\n"
      ],
      "metadata": {
        "colab": {
          "base_uri": "https://localhost:8080/",
          "height": 611
        },
        "id": "gTRfUk9jwqmb",
        "outputId": "4de8d074-ccc7-4b27-a531-5baf1ad539a0"
      },
      "execution_count": null,
      "outputs": [
        {
          "output_type": "stream",
          "name": "stderr",
          "text": [
            "/usr/local/lib/python3.10/dist-packages/google/colab/_variable_inspector.py:27: UserWarning: device_allocation in out-of-thread context could not be cleaned up\n",
            "  globals().clear()\n",
            "/usr/local/lib/python3.10/dist-packages/google/colab/_variable_inspector.py:27: UserWarning: device_allocation in out-of-thread context could not be cleaned up\n",
            "  globals().clear()\n",
            "/usr/local/lib/python3.10/dist-packages/google/colab/_variable_inspector.py:27: UserWarning: device_allocation in out-of-thread context could not be cleaned up\n",
            "  globals().clear()\n",
            "/usr/local/lib/python3.10/dist-packages/google/colab/_variable_inspector.py:27: UserWarning: device_allocation in out-of-thread context could not be cleaned up\n",
            "  globals().clear()\n"
          ]
        },
        {
          "output_type": "display_data",
          "data": {
            "text/plain": [
              "<Figure size 640x480 with 1 Axes>"
            ],
            "image/png": "[encoded data removed]"
          },
          "metadata": {}
        }
      ]
    },
    {
      "cell_type": "code",
      "source": [
        "#@title Comparison of computation time between sklearn method and our gpu implementation with increasing number of columns\n",
        "relative_time = {\"gpu\":[], \"cpu\":[]}\n",
        "rows = [10**n for n in np.arange(1, 6, 0.5)]\n",
        "for row in rows:\n",
        "    n_components = 2\n",
        "    # Initialize X\n",
        "    X = np.random.randn(100,int(row))\n",
        "    std = StandardScaler()\n",
        "    X = std.fit_transform(X)\n",
        "    # GPU PCA\n",
        "    pca_gpu = Nipals_GPU_v2(ncomp=2)\n",
        "    t1 = time()\n",
        "    pca_gpu.fit_on_GPU(X)\n",
        "    t2 = time()\n",
        "    relative_time[\"gpu\"].append(t2 - t1)\n",
        "    # CPU PCA\n",
        "    pca_cpu = PCA(n_components=2)\n",
        "    t1 = time()\n",
        "    pca_cpu.fit(X)\n",
        "    t2 = time()\n",
        "    relative_time[\"cpu\"].append(t2 - t1)\n",
        "# plot the curves for each device\n",
        "for device in relative_time:\n",
        "    times = relative_time[device]\n",
        "    plt.plot(rows, times, label=device)\n",
        "\n",
        "# add legend, title, and axis labels\n",
        "plt.legend()\n",
        "plt.title(\"Time per Column for CPU and GPU\")\n",
        "plt.xlabel(\"Column Number\")\n",
        "plt.ylabel(\"Time\")\n",
        "\n",
        "# display the plot\n",
        "plt.show()\n"
      ],
      "metadata": {
        "colab": {
          "base_uri": "https://localhost:8080/",
          "height": 819
        },
        "id": "MoWFhrhlWBOd",
        "outputId": "48d2be44-b7fb-401b-beeb-c357e0cf3ef3"
      },
      "execution_count": null,
      "outputs": [
        {
          "output_type": "stream",
          "name": "stderr",
          "text": [
            "/usr/local/lib/python3.10/dist-packages/google/colab/_variable_inspector.py:27: UserWarning: device_allocation in out-of-thread context could not be cleaned up\n",
            "  globals().clear()\n",
            "/usr/local/lib/python3.10/dist-packages/google/colab/_variable_inspector.py:27: UserWarning: device_allocation in out-of-thread context could not be cleaned up\n",
            "  globals().clear()\n",
            "/usr/local/lib/python3.10/dist-packages/google/colab/_variable_inspector.py:27: UserWarning: device_allocation in out-of-thread context could not be cleaned up\n",
            "  globals().clear()\n",
            "/usr/local/lib/python3.10/dist-packages/google/colab/_variable_inspector.py:27: UserWarning: device_allocation in out-of-thread context could not be cleaned up\n",
            "  globals().clear()\n",
            "/usr/local/lib/python3.10/dist-packages/google/colab/_variable_inspector.py:27: UserWarning: device_allocation in out-of-thread context could not be cleaned up\n",
            "  globals().clear()\n",
            "/usr/local/lib/python3.10/dist-packages/google/colab/_variable_inspector.py:27: UserWarning: device_allocation in out-of-thread context could not be cleaned up\n",
            "  globals().clear()\n",
            "/usr/local/lib/python3.10/dist-packages/google/colab/_variable_inspector.py:27: UserWarning: device_allocation in out-of-thread context could not be cleaned up\n",
            "  globals().clear()\n",
            "/usr/local/lib/python3.10/dist-packages/google/colab/_variable_inspector.py:27: UserWarning: device_allocation in out-of-thread context could not be cleaned up\n",
            "  globals().clear()\n",
            "/usr/local/lib/python3.10/dist-packages/google/colab/_variable_inspector.py:27: UserWarning: device_allocation in out-of-thread context could not be cleaned up\n",
            "  globals().clear()\n",
            "/usr/local/lib/python3.10/dist-packages/google/colab/_variable_inspector.py:27: UserWarning: device_allocation in out-of-thread context could not be cleaned up\n",
            "  globals().clear()\n"
          ]
        },
        {
          "output_type": "display_data",
          "data": {
            "text/plain": [
              "<Figure size 640x480 with 1 Axes>"
            ],
            "image/png": "[encoded data removed]"
          },
          "metadata": {}
        }
      ]
    },
    {
      "cell_type": "markdown",
      "source": [
        "# Comparison between two implementations of same iterative NIPALS-PCA, one on CPU and one on GPU\n",
        "\n",
        "As specified in the paper, the SVD method used in sklearn, while optimized, is sub-optimal compared to iterative NIPALS. We tried to implement a CPU version of NIPALS, based on pseud-code given in the article.\n",
        "\n",
        "The results does not show a significant improvement of using GPU implementation, bu it seems that the slope of CPU computation time is higher than the one for GPU computation time, and so that it could be significantly better with matrix of higher size. Unfortunately, due to limited capacity of Colab GPU, we couldn't test it."
      ],
      "metadata": {
        "id": "K7MJS5i3fvQC"
      }
    },
    {
      "cell_type": "code",
      "source": [
        "#@title Custom implementation of NIPALS on CPU\n",
        "\n",
        "def Nipals_CPU(X, n_components=2, max_iter=100, epsilon=1e-5):\n",
        "    \"\"\"\n",
        "    Computes the leading K eigenvectors and eigenvalues of matrix X using the power iteration method\n",
        "    Returns the eigenvectors T, the eigenvalues P, and the residual matrix R\n",
        "    \"\"\"\n",
        "    R = X.copy()  # initialize R to be X\n",
        "    T = np.zeros((X.shape[0], n_components))  # initialize T to be zeros\n",
        "    P = np.zeros(n_components)  # initialize P to be zeros\n",
        "    for k in range(n_components):\n",
        "        lamda = 0\n",
        "        Tk = R[:, k]  # initialize Tk to be the k-th column of R\n",
        "        for j in range(max_iter):\n",
        "            Pk = R.T @ Tk  # compute the power iteration vector Pk\n",
        "            Pk_norm = np.linalg.norm(Pk)  # compute the norm of Pk\n",
        "            Pk = Pk / Pk_norm  # normalize Pk\n",
        "            Tk = R @ Pk  # compute the next power iteration vector Tk\n",
        "            lamda_new = Tk[k]  # compute the new eigenvalue estimate\n",
        "            if abs(lamda_new - lamda) <= epsilon:  # check for convergence\n",
        "                break\n",
        "            lamda = lamda_new  # update the eigenvalue estimate\n",
        "        T[:, k] = Tk  # store the k-th eigenvector in T\n",
        "        P[k] = lamda  # store the k-th eigenvalue in P\n",
        "        R = R - np.outer(Tk, Pk)  # subtract the contribution of the k-th eigenvector/eigenvalue from R\n",
        "    return T, P, R"
      ],
      "metadata": {
        "id": "IlI4friKdiin"
      },
      "execution_count": 19,
      "outputs": []
    },
    {
      "cell_type": "code",
      "source": [
        "#@title Comparison of computation time between implemented NIPALS method and our gpu implementation with increasing number of rows\n",
        "relative_time = {\"gpu\":[], \"cpu\":[]}\n",
        "rows = [10**n for n in np.arange(1, 6, 0.5)]\n",
        "for row in rows:\n",
        "    n_components = 2\n",
        "    # Initialize X\n",
        "    X = np.random.randn(int(row),10)\n",
        "    std = StandardScaler()\n",
        "    X = std.fit_transform(X)\n",
        "    # GPU PCA\n",
        "    pca_gpu = Nipals_GPU_v2(ncomp=2)\n",
        "    t1 = time()\n",
        "    pca_gpu.fit_on_GPU(X)\n",
        "    t2 = time()\n",
        "    relative_time[\"gpu\"].append(t2 - t1)\n",
        "    # CPU PCA\n",
        "    t1 = time()\n",
        "    Nipals_CPU(X)\n",
        "    t2 = time()\n",
        "    relative_time[\"cpu\"].append(t2 - t1)\n",
        "# plot the curves for each device\n",
        "for device in relative_time:\n",
        "    times = relative_time[device]\n",
        "    plt.plot(rows, times, label=device)\n",
        "\n",
        "# add legend, title, and axis labels\n",
        "plt.legend()\n",
        "plt.title(\"Time per Row for CPU and GPU\")\n",
        "plt.xlabel(\"Row Number\")\n",
        "plt.ylabel(\"Time\")\n",
        "\n",
        "# display the plot\n",
        "plt.show()\n"
      ],
      "metadata": {
        "colab": {
          "base_uri": "https://localhost:8080/",
          "height": 1000
        },
        "id": "zPdI1sJfXVAl",
        "outputId": "1b64e0a5-127e-475c-dd56-06ecdc6674d3"
      },
      "execution_count": 22,
      "outputs": [
        {
          "output_type": "stream",
          "name": "stderr",
          "text": [
            "/usr/local/lib/python3.10/dist-packages/google/colab/_variable_inspector.py:27: UserWarning: device_allocation in out-of-thread context could not be cleaned up\n",
            "  globals().clear()\n",
            "/usr/local/lib/python3.10/dist-packages/google/colab/_variable_inspector.py:27: UserWarning: device_allocation in out-of-thread context could not be cleaned up\n",
            "  globals().clear()\n",
            "/usr/local/lib/python3.10/dist-packages/google/colab/_variable_inspector.py:27: UserWarning: device_allocation in out-of-thread context could not be cleaned up\n",
            "  globals().clear()\n",
            "/usr/local/lib/python3.10/dist-packages/debugpy/_vendored/pydevd/_pydevd_bundle/pydevd_comm.py:658: UserWarning: module in out-of-thread context could not be cleaned up\n",
            "  frame = None\n",
            "/usr/local/lib/python3.10/dist-packages/debugpy/_vendored/pydevd/_pydevd_bundle/pydevd_comm.py:658: UserWarning: device_allocation in out-of-thread context could not be cleaned up\n",
            "  frame = None\n",
            "/usr/local/lib/python3.10/dist-packages/google/colab/_variable_inspector.py:27: UserWarning: device_allocation in out-of-thread context could not be cleaned up\n",
            "  globals().clear()\n",
            "/usr/local/lib/python3.10/dist-packages/google/colab/_variable_inspector.py:27: UserWarning: device_allocation in out-of-thread context could not be cleaned up\n",
            "  globals().clear()\n",
            "/usr/local/lib/python3.10/dist-packages/google/colab/_variable_inspector.py:27: UserWarning: device_allocation in out-of-thread context could not be cleaned up\n",
            "  globals().clear()\n",
            "/usr/local/lib/python3.10/dist-packages/google/colab/_variable_inspector.py:27: UserWarning: device_allocation in out-of-thread context could not be cleaned up\n",
            "  globals().clear()\n",
            "/usr/local/lib/python3.10/dist-packages/debugpy/_vendored/pydevd/_pydevd_bundle/pydevd_comm.py:658: UserWarning: module in out-of-thread context could not be cleaned up\n",
            "  frame = None\n",
            "/usr/local/lib/python3.10/dist-packages/debugpy/_vendored/pydevd/_pydevd_bundle/pydevd_comm.py:658: UserWarning: device_allocation in out-of-thread context could not be cleaned up\n",
            "  frame = None\n",
            "/usr/local/lib/python3.10/dist-packages/google/colab/_variable_inspector.py:27: UserWarning: device_allocation in out-of-thread context could not be cleaned up\n",
            "  globals().clear()\n",
            "/usr/local/lib/python3.10/dist-packages/google/colab/_variable_inspector.py:27: UserWarning: device_allocation in out-of-thread context could not be cleaned up\n",
            "  globals().clear()\n",
            "/usr/local/lib/python3.10/dist-packages/debugpy/_vendored/pydevd/_pydevd_bundle/pydevd_comm.py:658: UserWarning: module in out-of-thread context could not be cleaned up\n",
            "  frame = None\n",
            "/usr/local/lib/python3.10/dist-packages/debugpy/_vendored/pydevd/_pydevd_bundle/pydevd_comm.py:658: UserWarning: device_allocation in out-of-thread context could not be cleaned up\n",
            "  frame = None\n",
            "/usr/local/lib/python3.10/dist-packages/google/colab/_variable_inspector.py:27: UserWarning: device_allocation in out-of-thread context could not be cleaned up\n",
            "  globals().clear()\n"
          ]
        },
        {
          "output_type": "display_data",
          "data": {
            "text/plain": [
              "<Figure size 640x480 with 1 Axes>"
            ],
            "image/png": "[encoded data removed]"
          },
          "metadata": {}
        }
      ]
    }
  ]
}